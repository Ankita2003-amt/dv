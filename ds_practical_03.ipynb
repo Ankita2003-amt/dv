{
  "nbformat": 4,
  "nbformat_minor": 0,
  "metadata": {
    "colab": {
      "provenance": [],
      "authorship_tag": "ABX9TyMryjH7N2Sj69ATxPAUMD52",
      "include_colab_link": true
    },
    "kernelspec": {
      "name": "python3",
      "display_name": "Python 3"
    },
    "language_info": {
      "name": "python"
    }
  },
  "cells": [
    {
      "cell_type": "markdown",
      "metadata": {
        "id": "view-in-github",
        "colab_type": "text"
      },
      "source": [
        "<a href=\"https://colab.research.google.com/github/Ankita2003-amt/dv/blob/main/ds_practical_03.ipynb\" target=\"_parent\"><img src=\"https://colab.research.google.com/assets/colab-badge.svg\" alt=\"Open In Colab\"/></a>"
      ]
    },
    {
      "cell_type": "markdown",
      "source": [
        "**Practical no_03:**\n",
        "i. Write a NumPy program to count the number of dimensions,\n",
        "number\n",
        "of elements and number of bytes for each element in a given\n",
        "array."
      ],
      "metadata": {
        "id": "e6Ui83_smDFw"
      }
    },
    {
      "cell_type": "code",
      "source": [
        "import numpy as np\n",
        "array_1=np.array([[1,2],[4,5]])\n",
        "array_1"
      ],
      "metadata": {
        "colab": {
          "base_uri": "https://localhost:8080/"
        },
        "id": "jnJXphx9mEaf",
        "outputId": "fa9566a9-594c-40f1-b5c5-324cab5bc37b"
      },
      "execution_count": 5,
      "outputs": [
        {
          "output_type": "execute_result",
          "data": {
            "text/plain": [
              "array([[1, 2],\n",
              "       [4, 5]])"
            ]
          },
          "metadata": {},
          "execution_count": 5
        }
      ]
    },
    {
      "cell_type": "code",
      "source": [
        "array_1.itemsize"
      ],
      "metadata": {
        "colab": {
          "base_uri": "https://localhost:8080/"
        },
        "id": "oKNTg2Psm5BZ",
        "outputId": "6068494b-0a41-4312-9736-03a74bc489fe"
      },
      "execution_count": 7,
      "outputs": [
        {
          "output_type": "execute_result",
          "data": {
            "text/plain": [
              "8"
            ]
          },
          "metadata": {},
          "execution_count": 7
        }
      ]
    },
    {
      "cell_type": "code",
      "source": [
        "array_1.ndim"
      ],
      "metadata": {
        "colab": {
          "base_uri": "https://localhost:8080/"
        },
        "id": "El2Vl675nHwu",
        "outputId": "22886418-f29f-4a15-a2aa-0268da2e5fa5"
      },
      "execution_count": 8,
      "outputs": [
        {
          "output_type": "execute_result",
          "data": {
            "text/plain": [
              "2"
            ]
          },
          "metadata": {},
          "execution_count": 8
        }
      ]
    },
    {
      "cell_type": "markdown",
      "source": [
        "3.2.\n",
        "ii. Write a NumPy program to get a copy of a matrix with the\n",
        "elements below the k-th diagonal zeroed."
      ],
      "metadata": {
        "id": "WJ1XFq_ynMb9"
      }
    },
    {
      "cell_type": "code",
      "source": [
        "import numpy as np\n",
        "m=np.matrix([[1,2,3],[4,5,6],[7,8,9]])\n",
        "print(\"sample matrix\")\n",
        "print(m)\n",
        "print(\"\\ntriu() function without any parameter:\")\n",
        "print(np.triu(m))\n",
        "print(\"\\nBelow 1st daigonal Zeroed.\")\n",
        "print(np.triu(m,-1))\n",
        "print(\"\\nBelow 2nd daigonal Zeroed.\")\n",
        "print(np.triu(m,-2))"
      ],
      "metadata": {
        "colab": {
          "base_uri": "https://localhost:8080/"
        },
        "id": "agiAcnHMnekY",
        "outputId": "19b41fc5-22f2-4704-cc0d-4d496c69e594"
      },
      "execution_count": 12,
      "outputs": [
        {
          "output_type": "stream",
          "name": "stdout",
          "text": [
            "sample matrix\n",
            "[[1 2 3]\n",
            " [4 5 6]\n",
            " [7 8 9]]\n",
            "\n",
            "triu() function without any parameter:\n",
            "[[1 2 3]\n",
            " [0 5 6]\n",
            " [0 0 9]]\n",
            "\n",
            "Below 1st daigonal Zeroed.\n",
            "[[1 2 3]\n",
            " [4 5 6]\n",
            " [0 8 9]]\n",
            "\n",
            "Below 2nd daigonal Zeroed.\n",
            "[[1 2 3]\n",
            " [4 5 6]\n",
            " [7 8 9]]\n"
          ]
        }
      ]
    }
  ]
}